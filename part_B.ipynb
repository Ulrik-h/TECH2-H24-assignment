{
 "cells": [
  {
   "cell_type": "markdown",
   "metadata": {},
   "source": [
    "# TECH 2 mandatory assignment - Part B\n",
    "\n",
    "Write your solution for Part B in this notebook."
   ]
  },
  {
   "cell_type": "markdown",
   "metadata": {},
   "source": [
    "1. Import the file and store each column of values in a list.\n"
   ]
  },
  {
   "cell_type": "code",
   "execution_count": 19,
   "metadata": {},
   "outputs": [],
   "source": [
    "data = open(\"data.csv\",\"r\")\n",
    "\n",
    "# Setting the Coloumns as empty list\n",
    "Coloumn_1 = []\n",
    "Coloumn_2 = []\n",
    "Coloumn_3 = []\n",
    "\n",
    "# Iterating over the lines/rows in the datafile and creating three different list of Coloumns of size 100, 1000 and 10 000. \n",
    "for i in range(10000):\n",
    "    row = data.readline().split(\",\")\n",
    "    if i < 100:\n",
    "        Coloumn_1.append(float(row[0]))\n",
    "    if i < 1000:\n",
    "        Coloumn_2.append(float(row[1]))\n",
    "    Coloumn_3.append(float(row[2]))\n"
   ]
  },
  {
   "cell_type": "markdown",
   "metadata": {},
   "source": [
    "2. Compute the standard deviation of all three sequences using the three different approaches"
   ]
  },
  {
   "cell_type": "code",
   "execution_count": 21,
   "metadata": {},
   "outputs": [],
   "source": [
    "# Importing the two functions I created from part_A\n",
    "from part_A import std_builtin, std_loops\n",
    "\n",
    "# Importing std function from numpy\n",
    "from numpy import std"
   ]
  },
  {
   "cell_type": "code",
   "execution_count": 22,
   "metadata": {},
   "outputs": [
    {
     "name": "stdout",
     "output_type": "stream",
     "text": [
      "The standard deviation of the first sequence (100 numbers) is calculated using loops, built-in functions and numpy. The results are: \n",
      "Loops:  0.282 \n",
      "Built-in functions:  0.282 \n",
      "Numpy:  0.282\n"
     ]
    }
   ],
   "source": [
    "# Computing standard deviation of sequence 1\n",
    "std_loop_1 = std_loops(Coloumn_1)\n",
    "std_built_1= std_builtin(Coloumn_1)\n",
    "std_numpy_1 = std(Coloumn_1)\n",
    "\n",
    "# Demonstrating the results\n",
    "print(f\"The standard deviation of the first sequence (100 numbers) is calculated using loops, built-in functions and numpy. The results are: \\nLoops: {std_loop_1: .3f} \\nBuilt-in functions: {std_built_1: .3f} \\nNumpy: {std_numpy_1: .3f}\")"
   ]
  },
  {
   "cell_type": "code",
   "execution_count": 23,
   "metadata": {},
   "outputs": [
    {
     "name": "stdout",
     "output_type": "stream",
     "text": [
      "The standard deviation of the second sequence (1000 numbers) is calculated using loops, built-in functions and numpy. The results are: \n",
      "Loops:  0.285 \n",
      "Built-in functions:  0.285 \n",
      "Numpy:  0.285\n"
     ]
    }
   ],
   "source": [
    "# Computing standard deviation of sequence 2\n",
    "std_loop_2 = std_loops(Coloumn_2)\n",
    "std_built_2= std_builtin(Coloumn_2)\n",
    "std_numpy_2 = std(Coloumn_2)\n",
    "\n",
    "# Demonstrating the results\n",
    "print(f\"The standard deviation of the second sequence (1000 numbers) is calculated using loops, built-in functions and numpy. The results are: \\nLoops: {std_loop_2: .3f} \\nBuilt-in functions: {std_built_2: .3f} \\nNumpy: {std_numpy_2: .3f}\")"
   ]
  },
  {
   "cell_type": "code",
   "execution_count": 24,
   "metadata": {},
   "outputs": [
    {
     "name": "stdout",
     "output_type": "stream",
     "text": [
      "The standard deviation of the first sequence (100 numbers) is calculated using loops, built-in functions and numpy. The results are: \n",
      "Loops:  0.285 \n",
      "Built-in functions:  0.285 \n",
      "Numpy:  0.285\n"
     ]
    }
   ],
   "source": [
    "# Computing standard deviation of sequence 1\n",
    "std_loop_3 = std_loops(Coloumn_3)\n",
    "std_built_3= std_builtin(Coloumn_3)\n",
    "std_numpy_3 = std(Coloumn_3)\n",
    "\n",
    "# Demonstrating the results\n",
    "print(f\"The standard deviation of the first sequence (100 numbers) is calculated using loops, built-in functions and numpy. The results are: \\nLoops: {std_loop_3: .3f} \\nBuilt-in functions: {std_built_3: .3f} \\nNumpy: {std_numpy_3: .3f}\")"
   ]
  },
  {
   "cell_type": "markdown",
   "metadata": {},
   "source": [
    "3. Record the run-time of each approach for each sequence. Recall that you can use the magic function\n",
    "%timeit to time the execution of a function in a Jupyter notebook."
   ]
  },
  {
   "cell_type": "code",
   "execution_count": 28,
   "metadata": {},
   "outputs": [
    {
     "name": "stdout",
     "output_type": "stream",
     "text": [
      "24.8 μs ± 881 ns per loop (mean ± std. dev. of 7 runs, 10,000 loops each)\n",
      "22.2 μs ± 371 ns per loop (mean ± std. dev. of 7 runs, 10,000 loops each)\n",
      "38.8 μs ± 705 ns per loop (mean ± std. dev. of 7 runs, 10,000 loops each)\n"
     ]
    }
   ],
   "source": [
    "# Computing standard deviation of sequence 1 and timing the computation\n",
    "%timeit std_loops(Coloumn_1)\n",
    "%timeit std_builtin(Coloumn_1)\n",
    "%timeit std(Coloumn_1)\n"
   ]
  },
  {
   "cell_type": "code",
   "execution_count": 30,
   "metadata": {},
   "outputs": [
    {
     "name": "stdout",
     "output_type": "stream",
     "text": [
      "256 μs ± 2.59 μs per loop (mean ± std. dev. of 7 runs, 1,000 loops each)\n",
      "212 μs ± 5.12 μs per loop (mean ± std. dev. of 7 runs, 1,000 loops each)\n",
      "82.4 μs ± 11.6 μs per loop (mean ± std. dev. of 7 runs, 10,000 loops each)\n"
     ]
    }
   ],
   "source": [
    "# Computing standard deviation of sequence 2 and timing the computation\n",
    "%timeit std_loops(Coloumn_2)\n",
    "%timeit std_builtin(Coloumn_2)\n",
    "%timeit std(Coloumn_2)\n"
   ]
  },
  {
   "cell_type": "code",
   "execution_count": 29,
   "metadata": {},
   "outputs": [
    {
     "name": "stdout",
     "output_type": "stream",
     "text": [
      "2.68 ms ± 74.5 μs per loop (mean ± std. dev. of 7 runs, 100 loops each)\n",
      "2.14 ms ± 149 μs per loop (mean ± std. dev. of 7 runs, 100 loops each)\n",
      "631 μs ± 3.23 μs per loop (mean ± std. dev. of 7 runs, 1,000 loops each)\n"
     ]
    }
   ],
   "source": [
    "# Computing standard deviation of sequence 3 and timing the computation\n",
    "%timeit std_loops(Coloumn_3)\n",
    "%timeit std_builtin(Coloumn_3)\n",
    "%timeit std(Coloumn_3)\n"
   ]
  },
  {
   "cell_type": "markdown",
   "metadata": {},
   "source": [
    "Summary\n",
    "The findings indicate that when the sequence is short the loops and built-in functions are faster than numpy at computing the standard deviation. It seems like the built-in functions are quicker than the loops by a small margin. As the sequence gets longer - the numpy function is the better alternative for finding the standard deviation, and gets relativly better compared to the two other methods. For example, when the sequence of numbers is 1000, it is approximatly 3 times as quick as the two other methods, while when the sequence is 10 000 numbers, it is approximatly 4 times as quick. Thus, it seems like numpy's std function is very useful when handling larger amounts of data compared to loops or other built-in functions. \n"
   ]
  }
 ],
 "metadata": {
  "kernelspec": {
   "display_name": "base",
   "language": "python",
   "name": "python3"
  },
  "language_info": {
   "codemirror_mode": {
    "name": "ipython",
    "version": 3
   },
   "file_extension": ".py",
   "mimetype": "text/x-python",
   "name": "python",
   "nbconvert_exporter": "python",
   "pygments_lexer": "ipython3",
   "version": "3.12.4"
  }
 },
 "nbformat": 4,
 "nbformat_minor": 2
}
